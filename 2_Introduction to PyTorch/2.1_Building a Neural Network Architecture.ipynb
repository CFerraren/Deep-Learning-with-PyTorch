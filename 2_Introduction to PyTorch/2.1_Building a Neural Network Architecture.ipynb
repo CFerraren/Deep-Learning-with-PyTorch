{
 "cells": [
  {
   "cell_type": "markdown",
   "metadata": {},
   "source": [
    "# Neural networks with PyTorch\n",
    "\n",
    "Deep learning networks tend to be massive with dozens or hundreds of layers, that's where the term \"deep\" comes from. You can build one of these deep networks using only weight matrices as we did in the previous notebook, but in general it's very cumbersome and difficult to implement. PyTorch has a nice module `nn` that provides a nice way to efficiently build large neural networks."
   ]
  },
  {
   "cell_type": "code",
   "execution_count": 1,
   "metadata": {},
   "outputs": [],
   "source": [
    "# Import necessary packages\n",
    "\n",
    "%matplotlib inline\n",
    "%config InlineBackend.figure_format = 'retina'\n",
    "\n",
    "import numpy as np\n",
    "import torch\n",
    "\n",
    "import matplotlib.pyplot as plt\n",
    "\n",
    "import sys \n",
    "import os\n",
    "sys.path.append(os.path.abspath(\"../Resources/\"))\n",
    "import helper"
   ]
  },
  {
   "cell_type": "markdown",
   "metadata": {},
   "source": [
    "\n",
    "Now we're going to build a larger network that can solve a (formerly) difficult problem, identifying text in an image. Here we'll use the MNIST dataset which consists of greyscale handwritten digits. Each image is 28x28 pixels, you can see a sample below\n",
    "\n",
    "<img src='../images/mnist.png'>\n",
    "\n",
    "Our goal is to build a neural network that can take one of these images and predict the digit in the image.\n",
    "\n",
    "First up, we need to get our dataset. This is provided through the `torchvision` package. The code below will download the MNIST dataset, then create training and test datasets for us. Don't worry too much about the details here, you'll learn more about this later."
   ]
  },
  {
   "cell_type": "code",
   "execution_count": 2,
   "metadata": {},
   "outputs": [],
   "source": [
    "### Run this cell\n",
    "\n",
    "from torchvision import datasets, transforms\n",
    "\n",
    "# Define a transform to normalize the data\n",
    "transform = transforms.Compose([transforms.ToTensor(),\n",
    "                              transforms.Normalize((0.5,), (0.5,)),\n",
    "                              ])\n",
    "\n",
    "# Download and load the training data\n",
    "trainset = datasets.MNIST('../Data/MNIST_data/', download=True, train=True, transform=transform)\n",
    "trainloader = torch.utils.data.DataLoader(trainset, batch_size=64, shuffle=True)"
   ]
  },
  {
   "cell_type": "markdown",
   "metadata": {},
   "source": [
    "We have the training data loaded into `trainloader` and we make that an iterator with `iter(trainloader)`. Later, we'll use this to loop through the dataset for training, like\n",
    "\n",
    "```python\n",
    "for image, label in trainloader:\n",
    "    ## do things with images and labels\n",
    "```\n",
    "\n",
    "You'll notice I created the `trainloader` with a batch size of 64, and `shuffle=True`. The batch size is the number of images we get in one iteration from the data loader and pass through our network, often called a *batch*. And `shuffle=True` tells it to shuffle the dataset every time we start going through the data loader again. But here I'm just grabbing the first batch so we can check out the data. We can see below that `images` is just a tensor with size `(64, 1, 28, 28)`. So, 64 images per batch, 1 color channel, and 28x28 images."
   ]
  },
  {
   "cell_type": "code",
   "execution_count": 3,
   "metadata": {},
   "outputs": [
    {
     "name": "stdout",
     "output_type": "stream",
     "text": [
      "<class 'torch.Tensor'>\n",
      "torch.Size([64, 1, 28, 28])\n",
      "torch.Size([64])\n"
     ]
    }
   ],
   "source": [
    "dataiter = iter(trainloader)\n",
    "images, labels = dataiter.next()\n",
    "print(type(images))\n",
    "print(images.shape)\n",
    "print(labels.shape)"
   ]
  },
  {
   "cell_type": "markdown",
   "metadata": {},
   "source": [
    "This is what one of the images looks like. "
   ]
  },
  {
   "cell_type": "code",
   "execution_count": 4,
   "metadata": {},
   "outputs": [
    {
     "data": {
      "image/png": "[encoded data removed]",
      "text/plain": [
       "<Figure size 432x288 with 1 Axes>"
      ]
     },
     "metadata": {
      "image/png": {
       "height": 250,
       "width": 253
      },
      "needs_background": "light"
     },
     "output_type": "display_data"
    }
   ],
   "source": [
    "plt.imshow(images[1].numpy().squeeze(), cmap='Greys_r');"
   ]
  },
  {
   "cell_type": "markdown",
   "metadata": {},
   "source": [
    "First, let's try to build a simple network for this dataset using weight matrices and matrix multiplications. Then, we'll see how to do it using PyTorch's `nn` module which provides a much more convenient and powerful method for defining network architectures.\n",
    "\n",
    "The networks you've seen so far are called *fully-connected* or *dense* networks. Each unit in one layer is connected to each unit in the next layer. In fully-connected networks, the input to each layer must be a one-dimensional vector (which can be stacked into a 2D tensor as a batch of multiple examples). However, our images are 28x28 2D tensors, so we need to convert them into 1D vectors. Thinking about sizes, we need to convert the batch of images with shape `(64, 1, 28, 28)` to a have a shape of `(64, 784)`, 784 is 28 times 28. This is typically called *flattening*, we flattened the 2D images into 1D vectors.\n",
    "\n",
    "Previously you built a network with one output unit. Here we need 10 output units, one for each digit. We want our network to predict the digit shown in an image, so what we'll do is calculate probabilities that the image is of any one digit or class. This ends up being a discrete probability distribution over the classes (digits) that tells us the most likely class for the image. That means we need 10 output units for the 10 classes (digits). We'll see how to convert the network output into a probability distribution next.\n",
    "\n",
    "> **Exercise:** Flatten the batch of images `images`. Then build a multi-layer network with 784 input units, 256 hidden units, and 10 output units using random tensors for the weights and biases. For now, use a sigmoid activation for the hidden layer. Leave the output layer without an activation, we'll add one that gives us a probability distribution next."
   ]
  },
  {
   "cell_type": "code",
   "execution_count": 5,
   "metadata": {},
   "outputs": [
    {
     "name": "stdout",
     "output_type": "stream",
     "text": [
      "torch.Size([64, 10])\n",
      "tensor([[ -0.1876,  13.8563, -17.1337,  -5.4264,   8.1858, -19.9442,   3.2442,\n",
      "          15.4713,   5.9617,  -2.7167],\n",
      "        [  6.7606,  10.1637, -17.3112, -11.3245,   9.9589, -13.2390,  10.5958,\n",
      "           6.7457,  -1.2095,   3.9371],\n",
      "        [ -0.1690,   3.5745, -11.1405,  -3.6266,  12.2166, -18.1783,   9.2302,\n",
      "           9.7738,   5.1314,   5.8920],\n",
      "        [-22.7891,   0.7443, -14.9011,  -8.2732,   8.3306, -15.2516,  10.8881,\n",
      "          11.7870,   3.7318,  11.9580],\n",
      "        [-10.8170,   1.8538, -17.7544,  -9.8028,  13.6682, -14.6886,   2.0329,\n",
      "           5.0120,   0.2500,  -1.6227],\n",
      "        [ -5.2958,  15.0845,  -8.4300,   0.7278,   7.8315, -20.2621,   5.2300,\n",
      "          11.7593,   3.5981,  -9.6839],\n",
      "        [ -4.3921,  21.9783, -13.5156,   6.2163,  14.8459, -11.4305,  22.3458,\n",
      "          16.6047,   5.2809,   5.0518],\n",
      "        [  2.7311,  11.8366, -20.9922,  -7.3858,   7.4609, -19.5885,  10.0890,\n",
      "          19.2181,   1.5876,  -1.4993],\n",
      "        [  0.3642,   7.8959, -20.9852,  -6.1551,  11.9634, -21.6073,  10.4636,\n",
      "          12.3040,   1.8695,   4.1247],\n",
      "        [ -4.0879,  13.0687, -13.0418, -12.3649,   6.8424, -17.7166,   6.7199,\n",
      "          10.4307,   8.3354,   7.1223],\n",
      "        [ -5.0025,   5.4701, -17.5113,  -8.0651,  11.7728,  -8.9724,   5.7476,\n",
      "           5.9563,   0.8488,  -2.9679],\n",
      "        [ -3.0714,  12.4602, -16.1305, -12.9708,   3.2695, -17.8120,  19.0737,\n",
      "          19.3032,  -3.1781,   3.0070],\n",
      "        [  0.9060,  17.5594, -17.3128,  -4.1729,   8.8026, -10.7519,   1.4950,\n",
      "           7.3009,   3.5468,  -8.8623],\n",
      "        [  1.4704,  13.7481, -14.7987, -12.8261,   4.2748, -14.8369,   6.3968,\n",
      "           1.2060,   4.2962,   2.0969],\n",
      "        [ -0.3616,   0.2624, -16.1923,  -3.7727,  12.1172, -20.4496,   6.2289,\n",
      "          18.3543,   7.5565,  -0.4988],\n",
      "        [ -0.5531,  14.2177, -18.4559,   1.8526,  11.8312, -19.2265,  19.4681,\n",
      "          16.9072,   4.7175,   0.0270],\n",
      "        [ -5.5114,  14.2823, -14.6876,   1.9200,  15.7021, -14.5614,   6.7747,\n",
      "           9.5846,  10.4355,   0.0907],\n",
      "        [ -5.1281,  14.6118, -17.1159,   4.2837,  14.7438, -11.5233,  13.0230,\n",
      "           9.7936,   5.3968,  -3.5714],\n",
      "        [ -2.1853,  16.2433, -19.1710,  -4.2859,   2.2625, -14.8391,   6.0337,\n",
      "          17.1687,  -2.6975,   8.5144],\n",
      "        [-10.2393,  12.5875, -10.2619,  -4.9872,   5.3983, -12.3737,  16.6756,\n",
      "          14.4812,   1.0228,   7.1291],\n",
      "        [  0.2614,  17.4541, -10.5114, -13.5422,   9.4456, -17.0135,   6.7044,\n",
      "          10.0214,   4.8699,  -5.6225],\n",
      "        [ -6.9141,  12.5198, -15.2612,  -9.8185,  19.8886, -13.6071,  13.5767,\n",
      "           6.9823,  -6.9838,   6.3374],\n",
      "        [-18.3083,   9.2504,  -6.6765,  -6.9199,  13.5643, -13.0998,   9.2612,\n",
      "          14.8891,  -1.8015,   8.0862],\n",
      "        [ -1.8695,   2.6826,  -4.7526, -18.3116,   9.8629, -11.2559,  12.8240,\n",
      "          11.9567,  -5.4416,   6.0926],\n",
      "        [ -6.7261,  11.7114, -16.3210,  -8.9175,  14.4961, -14.7628,   9.3672,\n",
      "          13.8790,   5.1856,   4.1966],\n",
      "        [ -6.2308,   7.0758, -17.6901, -15.5338,  11.6838, -16.1904,   4.3045,\n",
      "           9.8481,   1.4066,   5.5879],\n",
      "        [  1.4692,  12.3149, -12.0106,  -8.9327,   5.8740, -14.4146,   6.8824,\n",
      "           5.6746,  -1.6902,  -4.4170],\n",
      "        [ -2.7313,  14.2001, -12.3290,  -0.3241,  12.2670, -20.1275,   5.6203,\n",
      "          15.3281,  -2.1348,   9.1696],\n",
      "        [-11.7738,   7.5414, -16.8324, -10.9461,   6.5014, -17.7455,   9.2662,\n",
      "          12.0653,   1.7156,  -3.8992],\n",
      "        [ 10.5633,  11.6911, -15.9153, -14.0672,  12.1726, -20.2760,  11.4319,\n",
      "          14.3767,   6.2637,   3.5917],\n",
      "        [  1.6242,  13.4626,  -6.2484,  -0.7864,   2.8181, -19.0906,  12.3742,\n",
      "          18.7379,   3.2302,   9.9104],\n",
      "        [ -3.8011,  10.8324, -16.1949,  -6.7291,  10.5473, -19.8195,   0.6298,\n",
      "           6.2342,  -3.1073,  -1.6761],\n",
      "        [ -2.8773,  14.3414,  -7.7215, -15.3407,   4.8723, -13.5261,  11.3310,\n",
      "           6.0504, -10.2556,   4.5144],\n",
      "        [  5.7605,  10.4712, -15.5633, -13.4191,   2.9665, -23.5646,   4.2813,\n",
      "           0.1141,  -2.2213,   4.1509],\n",
      "        [ -5.6731,   9.0114,  -5.4600,  -6.5981,   8.7429, -14.4066,   4.7527,\n",
      "          14.7314,  -8.5316,   5.6980],\n",
      "        [  1.4463,  14.0386, -11.6073, -19.6131,  23.4349, -17.7712,  10.6478,\n",
      "          14.7291,   0.0578,   1.8774],\n",
      "        [  6.0341,  17.9440, -20.2716,  -9.2307,   8.7414, -18.4607,   9.2141,\n",
      "          14.8774,   3.2254,   2.3437],\n",
      "        [ -1.5250,  26.4305,  -2.7405,  -9.2548,   1.4057, -20.0584,   2.5124,\n",
      "          16.9652, -11.8053,   2.5752],\n",
      "        [-15.7895,   6.4947,  -7.1647,  -4.7778,  19.0630,  -3.2106,   6.2648,\n",
      "          -0.4856,  -1.0132,   0.4825],\n",
      "        [ -3.1572,  17.6430, -12.7255,  -3.2818,  18.1141, -18.7374,  12.8967,\n",
      "          12.9734,   4.3183,   0.6994],\n",
      "        [  5.7994,  10.2845, -15.1131,  -8.3965,   6.2219, -14.3239,  27.9014,\n",
      "           4.3914,   5.8378,   5.5246],\n",
      "        [ 14.4561,  18.2693,  -6.2621,  -3.7984,   1.2956, -17.6634,   8.2763,\n",
      "          17.7976,  -6.3133,   4.9180],\n",
      "        [ -3.0769,  13.1009, -11.8586,  -6.4310,  15.6089, -19.9667,   3.0122,\n",
      "           9.6082,   2.1187,  -2.6615],\n",
      "        [  0.4493,   5.3084,  -9.4325, -17.0506,   7.1219, -17.9361,   6.8847,\n",
      "          15.5212,   0.2744,   0.6623],\n",
      "        [ -4.4251,  13.6155, -13.3779,  -8.7732,  11.7399, -15.8500,  18.5052,\n",
      "          -1.3055,   3.5269,  -3.1157],\n",
      "        [ -8.4431,   6.4879,  -6.2842,  -0.3160,  14.2703, -13.8423,   8.6710,\n",
      "           9.1626,  -1.1772,   9.1378],\n",
      "        [ -0.5394,  18.2902, -19.3174,  -2.3564,   6.0766, -19.8189,  14.3038,\n",
      "          18.8230,   3.5696,   0.2653],\n",
      "        [ -3.4982,  13.1777, -15.8238,  -4.0053,   6.5320, -17.3828,   8.2522,\n",
      "          17.8364,  -4.8245,   1.4344],\n",
      "        [ -0.7768,   3.5109, -22.3375,  -8.0353,  12.7965,  -9.3513,  13.4293,\n",
      "           3.4729,   2.3942,  -3.3866],\n",
      "        [ -5.7249,   9.9017, -23.5346,  -4.5420,   9.1051, -17.6499,   6.8433,\n",
      "           7.8495,  -1.5152,  11.1179],\n",
      "        [  0.6941,   6.4944, -12.6260,  -9.9084,  13.3230, -12.9253,  20.9788,\n",
      "           0.9411,   3.7748,  -0.2647],\n",
      "        [ -1.6138,   5.8939,  -7.8642,   0.6351,  15.9362, -24.8461,  14.4470,\n",
      "          15.6837,  -0.0872,  11.4201],\n",
      "        [  2.4414,  13.5851, -20.2725,  -7.1028,   9.5730, -15.5261,   7.1934,\n",
      "          13.4141,   1.5899,   2.0650],\n",
      "        [ -6.9444,   6.5985, -15.3583, -17.6466,   6.2451, -13.4531,   7.7937,\n",
      "           6.6384,  -3.5672,  -0.6595],\n",
      "        [  0.8857,  12.8595, -10.9432,   0.1731,   1.5979, -10.0559,  13.0156,\n",
      "          20.2706,   5.5212,   4.1773],\n",
      "        [-13.3867,  14.3010, -12.8540,   0.8090,   6.9116, -24.7834,   0.2239,\n",
      "           5.8801,   0.8463,   5.6145],\n",
      "        [ -6.2270,  11.4458, -13.9971, -10.3542,  17.2548, -18.9698,   4.7109,\n",
      "          12.3392,   5.0016,  -0.0055],\n",
      "        [ -2.8801,  14.4890, -19.1404, -10.3084,   7.6644, -16.0637,  11.0788,\n",
      "           4.2329,  -6.9182,   0.9608],\n",
      "        [-14.6445,  15.6123, -14.6530,  -9.9399,  10.9168, -22.9725,   5.1919,\n",
      "          13.5442,   5.8835,   7.4448],\n",
      "        [  0.0990,  13.4790, -21.8034,  -9.0090,   8.1785, -14.0392,   9.7791,\n",
      "          13.2352,  -1.9159,   1.0019],\n",
      "        [ -2.1673,   3.8771, -15.2793, -17.7509,   9.2295,  -9.7137,   5.0909,\n",
      "           4.0914,   6.7349,  -3.3268],\n",
      "        [  2.9930,  10.9048, -12.7727,  -1.8634,  11.7156, -14.5710,  15.4270,\n",
      "           5.0721,   6.5080,   1.0837],\n",
      "        [-10.4025,  12.0235, -18.8528, -12.4197,   7.0682, -24.8317,  21.4316,\n",
      "          12.4195,   2.6208,  -4.1304],\n",
      "        [ -3.5346,   5.6532, -11.1952, -12.7370,   8.5593, -18.2722,   8.3456,\n",
      "           9.6073,   2.8116,   1.4140]])\n"
     ]
    }
   ],
   "source": [
    "## Your solution\n",
    "\n",
    "def activation(x): # Sigmoid Function\n",
    "    return 1/(1+torch.exp(-x))\n",
    "\n",
    "# Flatten the input images\n",
    "inputs = images.view(images.shape[0], -1) # -1 to easily flattened the image dimension or 784\n",
    "\n",
    "# Create parameters\n",
    "w1 = torch.randn(784, 256)\n",
    "b1 = torch.randn(256)\n",
    "\n",
    "w2 = torch.randn(256, 10)\n",
    "b2 = torch.randn(10)\n",
    "\n",
    "h = activation(torch.mm(inputs, w1) + b1)\n",
    "\n",
    "# output of your network, should have shape (64,10)\n",
    "out = torch.mm(h, w2) + b2\n",
    "\n",
    "print(out.shape)\n",
    "print(out)"
   ]
  },
  {
   "cell_type": "markdown",
   "metadata": {},
   "source": [
    "Now we have 10 outputs for our network. We want to pass in an image to our network and get out a probability distribution over the classes that tells us the likely class(es) the image belongs to. Something that looks like this:\n",
    "<img src='../images/image_distribution.png' width=500px>\n",
    "\n",
    "Here we see that the probability for each class is roughly the same. This is representing an untrained network, it hasn't seen any data yet so it just returns a uniform distribution with equal probabilities for each class.\n",
    "\n",
    "To calculate this probability distribution, we often use the [**softmax** function](https://en.wikipedia.org/wiki/Softmax_function). Mathematically this looks like\n",
    "\n",
    "$$\n",
    "\\Large \\sigma(x_i) = \\cfrac{e^{x_i}}{\\sum_k^K{e^{x_k}}}\n",
    "$$\n",
    "\n",
    "What this does is squish each input $x_i$ between 0 and 1 and normalizes the values to give you a proper probability distribution where the probabilites sum up to one.\n",
    "\n",
    "> **Exercise:** Implement a function `softmax` that performs the softmax calculation and returns probability distributions for each example in the batch. Note that you'll need to pay attention to the shapes when doing this. If you have a tensor `a` with shape `(64, 10)` and a tensor `b` with shape `(64,)`, doing `a/b` will give you an error because PyTorch will try to do the division across the columns (called broadcasting) but you'll get a size mismatch. The way to think about this is for each of the 64 examples, you only want to divide by one value, the sum in the denominator. So you need `b` to have a shape of `(64, 1)`. This way PyTorch will divide the 10 values in each row of `a` by the one value in each row of `b`. Pay attention to how you take the sum as well. You'll need to define the `dim` keyword in `torch.sum`. Setting `dim=0` takes the sum across the rows while `dim=1` takes the sum across the columns."
   ]
  },
  {
   "cell_type": "code",
   "execution_count": 6,
   "metadata": {},
   "outputs": [
    {
     "name": "stdout",
     "output_type": "stream",
     "text": [
      "torch.Size([64, 10])\n",
      "tensor([1.0000, 1.0000, 1.0000, 1.0000, 1.0000, 1.0000, 1.0000, 1.0000, 1.0000,\n",
      "        1.0000, 1.0000, 1.0000, 1.0000, 1.0000, 1.0000, 1.0000, 1.0000, 1.0000,\n",
      "        1.0000, 1.0000, 1.0000, 1.0000, 1.0000, 1.0000, 1.0000, 1.0000, 1.0000,\n",
      "        1.0000, 1.0000, 1.0000, 1.0000, 1.0000, 1.0000, 1.0000, 1.0000, 1.0000,\n",
      "        1.0000, 1.0000, 1.0000, 1.0000, 1.0000, 1.0000, 1.0000, 1.0000, 1.0000,\n",
      "        1.0000, 1.0000, 1.0000, 1.0000, 1.0000, 1.0000, 1.0000, 1.0000, 1.0000,\n",
      "        1.0000, 1.0000, 1.0000, 1.0000, 1.0000, 1.0000, 1.0000, 1.0000, 1.0000,\n",
      "        1.0000])\n"
     ]
    }
   ],
   "source": [
    "def softmax(x):\n",
    "    ## TODO: Implement the softmax function here\n",
    "    return torch.exp(x)/torch.sum(torch.exp(x), dim=1).view(-1,1) #reshape (pytorch broadcasting)\n",
    "\n",
    "# Here, out should be the output of the network in the previous excercise with shape (64,10)\n",
    "probabilities = softmax(out)\n",
    "\n",
    "# Does it have the right shape? Should be (64, 10)\n",
    "print(probabilities.shape)\n",
    "\n",
    "# Does it sum to 1?\n",
    "print(probabilities.sum(dim=1))"
   ]
  },
  {
   "cell_type": "markdown",
   "metadata": {},
   "source": [
    "## Building networks with PyTorch\n",
    "\n",
    "PyTorch provides a module `nn` that makes building networks much simpler. Here I'll show you how to build the same one as above with 784 inputs, 256 hidden units, 10 output units and a softmax output."
   ]
  },
  {
   "cell_type": "code",
   "execution_count": 7,
   "metadata": {},
   "outputs": [],
   "source": [
    "from torch import nn"
   ]
  },
  {
   "cell_type": "code",
   "execution_count": 8,
   "metadata": {},
   "outputs": [],
   "source": [
    "class Network(nn.Module):\n",
    "    def __init__(self):\n",
    "        super().__init__()\n",
    "        \n",
    "        # Inputs to hidden layer linear transformation\n",
    "        self.hidden = nn.Linear(784, 256)\n",
    "        # Output layer, 10 units - one for each digit\n",
    "        self.output = nn.Linear(256, 10)\n",
    "        \n",
    "        # Define sigmoid activation and softmax output \n",
    "        self.sigmoid = nn.Sigmoid()\n",
    "        self.softmax = nn.Softmax(dim=1)\n",
    "        \n",
    "    def forward(self, x):\n",
    "        # Pass the input tensor through each of our operations\n",
    "        x = self.hidden(x)\n",
    "        x = self.sigmoid(x)\n",
    "        x = self.output(x)\n",
    "        x = self.softmax(x)\n",
    "        \n",
    "        return x"
   ]
  },
  {
   "cell_type": "markdown",
   "metadata": {},
   "source": [
    "Let's go through this bit by bit.\n",
    "\n",
    "```python\n",
    "class Network(nn.Module):\n",
    "```\n",
    "\n",
    "Here we're inheriting from `nn.Module`. Combined with `super().__init__()` this creates a class that tracks the architecture and provides a lot of useful methods and attributes. It is mandatory to inherit from `nn.Module` when you're creating a class for your network. The name of the class itself can be anything.\n",
    "\n",
    "```python\n",
    "self.hidden = nn.Linear(784, 256)\n",
    "```\n",
    "\n",
    "This line creates a module for a linear transformation, $x\\mathbf{W} + b$, with 784 inputs and 256 outputs and assigns it to `self.hidden`. The module automatically creates the weight and bias tensors which we'll use in the `forward` method. You can access the weight and bias tensors once the network (`net`) is created with `net.hidden.weight` and `net.hidden.bias`.\n",
    "\n",
    "```python\n",
    "self.output = nn.Linear(256, 10)\n",
    "```\n",
    "\n",
    "Similarly, this creates another linear transformation with 256 inputs and 10 outputs.\n",
    "\n",
    "```python\n",
    "self.sigmoid = nn.Sigmoid()\n",
    "self.softmax = nn.Softmax(dim=1)\n",
    "```\n",
    "\n",
    "Here I defined operations for the sigmoid activation and softmax output. Setting `dim=1` in `nn.Softmax(dim=1)` calculates softmax across the columns.\n",
    "\n",
    "```python\n",
    "def forward(self, x):\n",
    "```\n",
    "\n",
    "PyTorch networks created with `nn.Module` must have a `forward` method defined. It takes in a tensor `x` and passes it through the operations you defined in the `__init__` method.\n",
    "\n",
    "```python\n",
    "x = self.hidden(x)\n",
    "x = self.sigmoid(x)\n",
    "x = self.output(x)\n",
    "x = self.softmax(x)\n",
    "```\n",
    "\n",
    "Here the input tensor `x` is passed through each operation a reassigned to `x`. We can see that the input tensor goes through the hidden layer, then a sigmoid function, then the output layer, and finally the softmax function. It doesn't matter what you name the variables here, as long as the inputs and outputs of the operations match the network architecture you want to build. The order in which you define things in the `__init__` method doesn't matter, but you'll need to sequence the operations correctly in the `forward` method.\n",
    "\n",
    "Now we can create a `Network` object."
   ]
  },
  {
   "cell_type": "code",
   "execution_count": 9,
   "metadata": {},
   "outputs": [
    {
     "data": {
      "text/plain": [
       "Network(\n",
       "  (hidden): Linear(in_features=784, out_features=256, bias=True)\n",
       "  (output): Linear(in_features=256, out_features=10, bias=True)\n",
       "  (sigmoid): Sigmoid()\n",
       "  (softmax): Softmax()\n",
       ")"
      ]
     },
     "execution_count": 9,
     "metadata": {},
     "output_type": "execute_result"
    }
   ],
   "source": [
    "# Create the network and look at it's text representation\n",
    "model = Network()\n",
    "model"
   ]
  },
  {
   "cell_type": "markdown",
   "metadata": {},
   "source": [
    "You can define the network somewhat more concisely and clearly using the `torch.nn.functional` module. This is the most common way you'll see networks defined as many operations are simple element-wise functions. We normally import this module as `F`, `import torch.nn.functional as F`."
   ]
  },
  {
   "cell_type": "code",
   "execution_count": 10,
   "metadata": {},
   "outputs": [],
   "source": [
    "import torch.nn.functional as F\n",
    "\n",
    "class Network(nn.Module):\n",
    "    def __init__(self):\n",
    "        super().__init__()\n",
    "        # Inputs to hidden layer linear transformation\n",
    "        self.hidden = nn.Linear(784, 256)\n",
    "        # Output layer, 10 units - one for each digit\n",
    "        self.output = nn.Linear(256, 10)\n",
    "        \n",
    "    def forward(self, x):\n",
    "        # Hidden layer with sigmoid activation\n",
    "        x = F.sigmoid(self.hidden(x))\n",
    "        # Output layer with softmax activation\n",
    "        x = F.softmax(self.output(x), dim=1)\n",
    "        \n",
    "        return x"
   ]
  },
  {
   "cell_type": "markdown",
   "metadata": {},
   "source": [
    "### Activation functions\n",
    "\n",
    "So far we've only been looking at the softmax activation, but in general any function can be used as an activation function. The only requirement is that for a network to approximate a non-linear function, the activation functions must be non-linear. Here are a few more examples of common activation functions: Tanh (hyperbolic tangent), and ReLU (rectified linear unit).\n",
    "\n",
    "<img src=\"../images/activation.png\" width=700px>\n",
    "\n",
    "In practice, the ReLU function is used almost exclusively as the activation function for hidden layers."
   ]
  },
  {
   "cell_type": "markdown",
   "metadata": {},
   "source": [
    "### Your Turn to Build a Network\n",
    "\n",
    "<img src=\"../images/mlp_mnist.png\" width=600px>\n",
    "\n",
    "> **Exercise:** Create a network with 784 input units, a hidden layer with 128 units and a ReLU activation, then a hidden layer with 64 units and a ReLU activation, and finally an output layer with a softmax activation as shown above. You can use a ReLU activation with the `nn.ReLU` module or `F.relu` function."
   ]
  },
  {
   "cell_type": "code",
   "execution_count": 11,
   "metadata": {
    "scrolled": true
   },
   "outputs": [
    {
     "data": {
      "text/plain": [
       "Network(\n",
       "  (fc1): Linear(in_features=784, out_features=128, bias=True)\n",
       "  (fc2): Linear(in_features=128, out_features=64, bias=True)\n",
       "  (fc3): Linear(in_features=64, out_features=10, bias=True)\n",
       ")"
      ]
     },
     "execution_count": 11,
     "metadata": {},
     "output_type": "execute_result"
    }
   ],
   "source": [
    "## Your solution here\n",
    "\n",
    "class Network(nn.Module):\n",
    "    def __init__(self):\n",
    "        super().__init__()\n",
    "        \n",
    "        ## Defining the layers, 128, 64, 10 units each\n",
    "        self.fc1 = nn.Linear(784, 128)\n",
    "        self.fc2 = nn.Linear(128, 64)\n",
    "        # Output layer, 10 units - one for each digit\n",
    "        self.fc3 = nn.Linear(64, 10)\n",
    "        \n",
    "        \n",
    "    def forward(self, x):\n",
    "        ''' Forward pass through the network, returns the output logits '''\n",
    "        x = self.fc1(x)\n",
    "        x = F.relu(x)\n",
    "        x = self.fc2(x)\n",
    "        x = F.relu(x)\n",
    "        x = self.fc3(x)\n",
    "        x = F.softmax(x, dim=1)\n",
    "        \n",
    "        return x\n",
    "    \n",
    "# Create the network and look at it's text representation\n",
    "model = Network()\n",
    "model"
   ]
  },
  {
   "cell_type": "markdown",
   "metadata": {},
   "source": [
    "### Initializing weights and biases\n",
    "\n",
    "The weights and such are automatically initialized for you, but it's possible to customize how they are initialized. The weights and biases are tensors attached to the layer you defined, you can get them with `model.fc1.weight` for instance."
   ]
  },
  {
   "cell_type": "code",
   "execution_count": 12,
   "metadata": {},
   "outputs": [
    {
     "name": "stdout",
     "output_type": "stream",
     "text": [
      "Parameter containing:\n",
      "tensor([[-0.0317, -0.0118, -0.0105,  ...,  0.0243,  0.0124,  0.0276],\n",
      "        [-0.0237, -0.0138,  0.0224,  ...,  0.0000,  0.0037, -0.0192],\n",
      "        [-0.0071,  0.0067,  0.0343,  ...,  0.0028, -0.0126, -0.0341],\n",
      "        ...,\n",
      "        [ 0.0183, -0.0313, -0.0042,  ...,  0.0265,  0.0274, -0.0191],\n",
      "        [ 0.0272,  0.0083, -0.0158,  ...,  0.0273,  0.0328,  0.0039],\n",
      "        [ 0.0158,  0.0314,  0.0169,  ...,  0.0206, -0.0140,  0.0271]],\n",
      "       requires_grad=True)\n",
      "Parameter containing:\n",
      "tensor([-0.0319, -0.0299,  0.0080,  0.0123, -0.0298, -0.0067,  0.0188,  0.0173,\n",
      "        -0.0064, -0.0284,  0.0089, -0.0232,  0.0353,  0.0265,  0.0061, -0.0326,\n",
      "         0.0088,  0.0147,  0.0268, -0.0240,  0.0216, -0.0299, -0.0036, -0.0328,\n",
      "         0.0024,  0.0048, -0.0196, -0.0168,  0.0066, -0.0158, -0.0274,  0.0133,\n",
      "        -0.0263,  0.0235,  0.0035,  0.0239, -0.0020,  0.0181,  0.0149, -0.0198,\n",
      "        -0.0151, -0.0237, -0.0025, -0.0074,  0.0150, -0.0195,  0.0140, -0.0237,\n",
      "        -0.0246,  0.0117,  0.0011,  0.0218,  0.0017, -0.0322,  0.0199,  0.0239,\n",
      "         0.0255, -0.0030,  0.0057, -0.0029, -0.0243,  0.0290,  0.0158, -0.0025,\n",
      "         0.0017,  0.0200, -0.0000,  0.0226,  0.0185,  0.0155,  0.0105, -0.0046,\n",
      "         0.0332, -0.0231,  0.0195,  0.0260, -0.0315,  0.0218,  0.0088,  0.0078,\n",
      "        -0.0164,  0.0274,  0.0159, -0.0137,  0.0302, -0.0032,  0.0065, -0.0198,\n",
      "         0.0099,  0.0112,  0.0101, -0.0301, -0.0317,  0.0222,  0.0020, -0.0135,\n",
      "        -0.0209, -0.0125,  0.0072,  0.0054, -0.0260, -0.0006, -0.0031, -0.0221,\n",
      "         0.0152,  0.0075, -0.0131, -0.0064,  0.0196, -0.0111, -0.0019, -0.0203,\n",
      "        -0.0014, -0.0055, -0.0307,  0.0263,  0.0027, -0.0118,  0.0109,  0.0331,\n",
      "         0.0112,  0.0064, -0.0248, -0.0354,  0.0235,  0.0334, -0.0190, -0.0097],\n",
      "       requires_grad=True)\n"
     ]
    }
   ],
   "source": [
    "print(model.fc1.weight)\n",
    "print(model.fc1.bias)"
   ]
  },
  {
   "cell_type": "markdown",
   "metadata": {},
   "source": [
    "For custom initialization, we want to modify these tensors in place. These are actually autograd *Variables*, so we need to get back the actual tensors with `model.fc1.weight.data`. Once we have the tensors, we can fill them with zeros (for biases) or random normal values."
   ]
  },
  {
   "cell_type": "code",
   "execution_count": 13,
   "metadata": {},
   "outputs": [
    {
     "data": {
      "text/plain": [
       "tensor([0., 0., 0., 0., 0., 0., 0., 0., 0., 0., 0., 0., 0., 0., 0., 0., 0., 0.,\n",
       "        0., 0., 0., 0., 0., 0., 0., 0., 0., 0., 0., 0., 0., 0., 0., 0., 0., 0.,\n",
       "        0., 0., 0., 0., 0., 0., 0., 0., 0., 0., 0., 0., 0., 0., 0., 0., 0., 0.,\n",
       "        0., 0., 0., 0., 0., 0., 0., 0., 0., 0., 0., 0., 0., 0., 0., 0., 0., 0.,\n",
       "        0., 0., 0., 0., 0., 0., 0., 0., 0., 0., 0., 0., 0., 0., 0., 0., 0., 0.,\n",
       "        0., 0., 0., 0., 0., 0., 0., 0., 0., 0., 0., 0., 0., 0., 0., 0., 0., 0.,\n",
       "        0., 0., 0., 0., 0., 0., 0., 0., 0., 0., 0., 0., 0., 0., 0., 0., 0., 0.,\n",
       "        0., 0.])"
      ]
     },
     "execution_count": 13,
     "metadata": {},
     "output_type": "execute_result"
    }
   ],
   "source": [
    "# Set biases to all zeros\n",
    "model.fc1.bias.data.fill_(0)"
   ]
  },
  {
   "cell_type": "code",
   "execution_count": 14,
   "metadata": {},
   "outputs": [
    {
     "data": {
      "text/plain": [
       "tensor([[ 6.6528e-03,  6.6928e-03, -3.2863e-03,  ..., -6.4876e-03,\n",
       "         -7.7139e-03, -1.5513e-02],\n",
       "        [-1.0629e-02, -1.9212e-02, -3.4021e-02,  ...,  2.2472e-02,\n",
       "          7.0330e-03,  2.6419e-03],\n",
       "        [-1.9552e-02, -4.1967e-04,  4.5222e-03,  ..., -2.0069e-02,\n",
       "         -1.3502e-02, -8.4912e-03],\n",
       "        ...,\n",
       "        [ 2.0103e-03, -1.5636e-03, -5.6071e-03,  ...,  2.1587e-03,\n",
       "          8.2250e-03,  6.1501e-03],\n",
       "        [-4.9367e-03, -3.0099e-03,  1.8698e-02,  ...,  1.9118e-06,\n",
       "          1.3199e-03, -1.3847e-03],\n",
       "        [ 1.2313e-02,  2.8704e-03, -8.4628e-03,  ..., -1.6888e-02,\n",
       "         -1.0239e-02, -5.3253e-03]])"
      ]
     },
     "execution_count": 14,
     "metadata": {},
     "output_type": "execute_result"
    }
   ],
   "source": [
    "# sample from random normal with standard dev = 0.01\n",
    "model.fc1.weight.data.normal_(std=0.01)"
   ]
  },
  {
   "cell_type": "markdown",
   "metadata": {},
   "source": [
    "### Forward pass\n",
    "\n",
    "Now that we have a network, let's see what happens when we pass in an image."
   ]
  },
  {
   "cell_type": "code",
   "execution_count": 15,
   "metadata": {},
   "outputs": [
    {
     "data": {
      "image/png": "[encoded data removed]",
      "text/plain": [
       "<Figure size 432x504 with 2 Axes>"
      ]
     },
     "metadata": {
      "image/png": {
       "height": 197,
       "width": 370
      },
      "needs_background": "light"
     },
     "output_type": "display_data"
    }
   ],
   "source": [
    "# Grab some data \n",
    "dataiter = iter(trainloader)\n",
    "images, labels = dataiter.next()\n",
    "\n",
    "# Resize images into a 1D vector, new shape is (batch size, color channels, image pixels) \n",
    "images.resize_(64, 1, 784)\n",
    "# or images.resize_(images.shape[0], 1, 784) to automatically get batch size\n",
    "\n",
    "# Forward pass through the network\n",
    "img_idx = 0\n",
    "ps = model.forward(images[img_idx,:])\n",
    "\n",
    "img = images[img_idx]\n",
    "helper.view_classify(img.view(1,28,28), ps)"
   ]
  },
  {
   "cell_type": "markdown",
   "metadata": {},
   "source": [
    "As you can see above, our network has basically no idea what this digit is. It's because we haven't trained it yet, all the weights are random!\n",
    "\n",
    "### Using `nn.Sequential`\n",
    "\n",
    "PyTorch provides a convenient way to build networks like this where a tensor is passed sequentially through operations, `nn.Sequential` ([documentation](https://pytorch.org/docs/master/nn.html#torch.nn.Sequential)). Using this to build the equivalent network:"
   ]
  },
  {
   "cell_type": "code",
   "execution_count": 16,
   "metadata": {},
   "outputs": [
    {
     "name": "stdout",
     "output_type": "stream",
     "text": [
      "Sequential(\n",
      "  (0): Linear(in_features=784, out_features=128, bias=True)\n",
      "  (1): ReLU()\n",
      "  (2): Linear(in_features=128, out_features=64, bias=True)\n",
      "  (3): ReLU()\n",
      "  (4): Linear(in_features=64, out_features=10, bias=True)\n",
      "  (5): Softmax()\n",
      ")\n"
     ]
    },
    {
     "data": {
      "image/png": "[encoded data removed]",
      "text/plain": [
       "<Figure size 432x504 with 2 Axes>"
      ]
     },
     "metadata": {
      "image/png": {
       "height": 197,
       "width": 370
      },
      "needs_background": "light"
     },
     "output_type": "display_data"
    }
   ],
   "source": [
    "# Hyperparameters for our network\n",
    "input_size = 784\n",
    "hidden_sizes = [128, 64]\n",
    "output_size = 10\n",
    "\n",
    "# Build a feed-forward network\n",
    "model = nn.Sequential(nn.Linear(input_size, hidden_sizes[0]),\n",
    "                      nn.ReLU(),\n",
    "                      nn.Linear(hidden_sizes[0], hidden_sizes[1]),\n",
    "                      nn.ReLU(),\n",
    "                      nn.Linear(hidden_sizes[1], output_size),\n",
    "                      nn.Softmax(dim=1))\n",
    "print(model)\n",
    "\n",
    "# Forward pass through the network and display output\n",
    "# Get our Data\n",
    "images, labels = next(iter(trainloader))\n",
    "\n",
    "images.resize_(images.shape[0], 1, 784)\n",
    "ps = model.forward(images[0,:])\n",
    "helper.view_classify(images[0].view(1, 28, 28), ps)"
   ]
  },
  {
   "cell_type": "markdown",
   "metadata": {},
   "source": [
    "Here our model is the same as before: 784 input units, a hidden layer with 128 units, ReLU activation, 64 unit hidden layer, another ReLU, then the output layer with 10 units, and the softmax output.\n",
    "\n",
    "The operations are availble by passing in the appropriate index. For example, if you want to get first Linear operation and look at the weights, you'd use `model[0]`."
   ]
  },
  {
   "cell_type": "code",
   "execution_count": 17,
   "metadata": {},
   "outputs": [
    {
     "name": "stdout",
     "output_type": "stream",
     "text": [
      "Linear(in_features=784, out_features=128, bias=True)\n"
     ]
    },
    {
     "data": {
      "text/plain": [
       "Parameter containing:\n",
       "tensor([[ 0.0348, -0.0035, -0.0148,  ...,  0.0260,  0.0189, -0.0282],\n",
       "        [-0.0077,  0.0324,  0.0207,  ..., -0.0069, -0.0119,  0.0181],\n",
       "        [-0.0299,  0.0251, -0.0173,  ...,  0.0337, -0.0034, -0.0148],\n",
       "        ...,\n",
       "        [ 0.0281, -0.0311,  0.0103,  ...,  0.0157,  0.0169, -0.0357],\n",
       "        [-0.0201, -0.0294, -0.0161,  ..., -0.0192,  0.0345,  0.0079],\n",
       "        [-0.0071,  0.0261, -0.0021,  ..., -0.0043,  0.0281, -0.0003]],\n",
       "       requires_grad=True)"
      ]
     },
     "execution_count": 17,
     "metadata": {},
     "output_type": "execute_result"
    }
   ],
   "source": [
    "print(model[0])\n",
    "model[0].weight"
   ]
  },
  {
   "cell_type": "markdown",
   "metadata": {},
   "source": [
    "You can also pass in an `OrderedDict` to name the individual layers and operations, instead of using incremental integers. Note that dictionary keys must be unique, so _each operation must have a different name_."
   ]
  },
  {
   "cell_type": "code",
   "execution_count": 18,
   "metadata": {},
   "outputs": [
    {
     "data": {
      "text/plain": [
       "Sequential(\n",
       "  (fc1): Linear(in_features=784, out_features=128, bias=True)\n",
       "  (relu1): ReLU()\n",
       "  (fc2): Linear(in_features=128, out_features=64, bias=True)\n",
       "  (relu2): ReLU()\n",
       "  (output): Linear(in_features=64, out_features=10, bias=True)\n",
       "  (softmax): Softmax()\n",
       ")"
      ]
     },
     "execution_count": 18,
     "metadata": {},
     "output_type": "execute_result"
    }
   ],
   "source": [
    "from collections import OrderedDict\n",
    "model = nn.Sequential(OrderedDict([\n",
    "                      ('fc1', nn.Linear(input_size, hidden_sizes[0])),\n",
    "                      ('relu1', nn.ReLU()),\n",
    "                      ('fc2', nn.Linear(hidden_sizes[0], hidden_sizes[1])),\n",
    "                      ('relu2', nn.ReLU()),\n",
    "                      ('output', nn.Linear(hidden_sizes[1], output_size)),\n",
    "                      ('softmax', nn.Softmax(dim=1))]))\n",
    "model"
   ]
  },
  {
   "cell_type": "markdown",
   "metadata": {},
   "source": [
    "Now you can access layers either by integer or the name"
   ]
  },
  {
   "cell_type": "code",
   "execution_count": 19,
   "metadata": {},
   "outputs": [
    {
     "name": "stdout",
     "output_type": "stream",
     "text": [
      "Linear(in_features=784, out_features=128, bias=True)\n",
      "Linear(in_features=784, out_features=128, bias=True)\n"
     ]
    }
   ],
   "source": [
    "print(model[0])\n",
    "print(model.fc1)"
   ]
  },
  {
   "cell_type": "markdown",
   "metadata": {},
   "source": [
    "In the next notebook, we'll see how we can train a neural network to accuractly predict the numbers appearing in the MNIST images."
   ]
  }
 ],
 "metadata": {
  "kernelspec": {
   "display_name": "Python 3",
   "language": "python",
   "name": "python3"
  },
  "language_info": {
   "codemirror_mode": {
    "name": "ipython",
    "version": 3
   },
   "file_extension": ".py",
   "mimetype": "text/x-python",
   "name": "python",
   "nbconvert_exporter": "python",
   "pygments_lexer": "ipython3",
   "version": "3.6.5"
  }
 },
 "nbformat": 4,
 "nbformat_minor": 2
}
