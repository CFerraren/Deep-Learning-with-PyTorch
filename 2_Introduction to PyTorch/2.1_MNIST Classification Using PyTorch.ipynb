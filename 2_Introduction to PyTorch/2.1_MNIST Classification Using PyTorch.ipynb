{
 "cells": [
  {
   "cell_type": "markdown",
   "metadata": {},
   "source": [
    "# Neural networks with PyTorch\n",
    "\n",
    "Deep learning networks tend to be massive with dozens or hundreds of layers, that's where the term \"deep\" comes from. You can build one of these deep networks using only weight matrices as we did in the previous notebook, but in general it's very cumbersome and difficult to implement. PyTorch has a nice module `nn` that provides a nice way to efficiently build large neural networks."
   ]
  },
  {
   "cell_type": "code",
   "execution_count": 1,
   "metadata": {},
   "outputs": [],
   "source": [
    "# Import necessary packages\n",
    "\n",
    "%matplotlib inline\n",
    "%config InlineBackend.figure_format = 'retina'\n",
    "\n",
    "import numpy as np\n",
    "import torch\n",
    "\n",
    "import matplotlib.pyplot as plt\n",
    "\n",
    "import sys \n",
    "import os\n",
    "sys.path.append(os.path.abspath(\"../Resources/\"))\n",
    "import helper"
   ]
  },
  {
   "cell_type": "markdown",
   "metadata": {},
   "source": [
    "\n",
    "Now we're going to build a larger network that can solve a (formerly) difficult problem, identifying text in an image. Here we'll use the MNIST dataset which consists of greyscale handwritten digits. Each image is 28x28 pixels, you can see a sample below\n",
    "\n",
    "<img src='../images/mnist.png'>\n",
    "\n",
    "Our goal is to build a neural network that can take one of these images and predict the digit in the image.\n",
    "\n",
    "First up, we need to get our dataset. This is provided through the `torchvision` package. The code below will download the MNIST dataset, then create training and test datasets for us. Don't worry too much about the details here, you'll learn more about this later."
   ]
  },
  {
   "cell_type": "code",
   "execution_count": 2,
   "metadata": {},
   "outputs": [],
   "source": [
    "### Run this cell\n",
    "\n",
    "from torchvision import datasets, transforms\n",
    "\n",
    "# Define a transform to normalize the data\n",
    "transform = transforms.Compose([transforms.ToTensor(),\n",
    "                              transforms.Normalize((0.5,), (0.5,)),\n",
    "                              ])\n",
    "\n",
    "# Download and load the training data\n",
    "trainset = datasets.MNIST('../Data/MNIST_data/', download=True, train=True, transform=transform)\n",
    "trainloader = torch.utils.data.DataLoader(trainset, batch_size=64, shuffle=True)"
   ]
  },
  {
   "cell_type": "markdown",
   "metadata": {},
   "source": [
    "We have the training data loaded into `trainloader` and we make that an iterator with `iter(trainloader)`. Later, we'll use this to loop through the dataset for training, like\n",
    "\n",
    "```python\n",
    "for image, label in trainloader:\n",
    "    ## do things with images and labels\n",
    "```\n",
    "\n",
    "You'll notice I created the `trainloader` with a batch size of 64, and `shuffle=True`. The batch size is the number of images we get in one iteration from the data loader and pass through our network, often called a *batch*. And `shuffle=True` tells it to shuffle the dataset every time we start going through the data loader again. But here I'm just grabbing the first batch so we can check out the data. We can see below that `images` is just a tensor with size `(64, 1, 28, 28)`. So, 64 images per batch, 1 color channel, and 28x28 images."
   ]
  },
  {
   "cell_type": "code",
   "execution_count": 3,
   "metadata": {},
   "outputs": [
    {
     "name": "stdout",
     "output_type": "stream",
     "text": [
      "<class 'torch.Tensor'>\n",
      "torch.Size([64, 1, 28, 28])\n",
      "torch.Size([64])\n"
     ]
    }
   ],
   "source": [
    "dataiter = iter(trainloader)\n",
    "images, labels = dataiter.next()\n",
    "print(type(images))\n",
    "print(images.shape)\n",
    "print(labels.shape)"
   ]
  },
  {
   "cell_type": "markdown",
   "metadata": {},
   "source": [
    "This is what one of the images looks like. "
   ]
  },
  {
   "cell_type": "code",
   "execution_count": 4,
   "metadata": {},
   "outputs": [
    {
     "data": {
      "image/png": "[encoded data removed]",
      "text/plain": [
       "<Figure size 432x288 with 1 Axes>"
      ]
     },
     "metadata": {
      "image/png": {
       "height": 250,
       "width": 253
      },
      "needs_background": "light"
     },
     "output_type": "display_data"
    }
   ],
   "source": [
    "plt.imshow(images[1].numpy().squeeze(), cmap='Greys_r');"
   ]
  },
  {
   "cell_type": "markdown",
   "metadata": {},
   "source": [
    "First, let's try to build a simple network for this dataset using weight matrices and matrix multiplications. Then, we'll see how to do it using PyTorch's `nn` module which provides a much more convenient and powerful method for defining network architectures.\n",
    "\n",
    "The networks you've seen so far are called *fully-connected* or *dense* networks. Each unit in one layer is connected to each unit in the next layer. In fully-connected networks, the input to each layer must be a one-dimensional vector (which can be stacked into a 2D tensor as a batch of multiple examples). However, our images are 28x28 2D tensors, so we need to convert them into 1D vectors. Thinking about sizes, we need to convert the batch of images with shape `(64, 1, 28, 28)` to a have a shape of `(64, 784)`, 784 is 28 times 28. This is typically called *flattening*, we flattened the 2D images into 1D vectors.\n",
    "\n",
    "Previously you built a network with one output unit. Here we need 10 output units, one for each digit. We want our network to predict the digit shown in an image, so what we'll do is calculate probabilities that the image is of any one digit or class. This ends up being a discrete probability distribution over the classes (digits) that tells us the most likely class for the image. That means we need 10 output units for the 10 classes (digits). We'll see how to convert the network output into a probability distribution next.\n",
    "\n",
    "> **Exercise:** Flatten the batch of images `images`. Then build a multi-layer network with 784 input units, 256 hidden units, and 10 output units using random tensors for the weights and biases. For now, use a sigmoid activation for the hidden layer. Leave the output layer without an activation, we'll add one that gives us a probability distribution next."
   ]
  },
  {
   "cell_type": "code",
   "execution_count": 5,
   "metadata": {},
   "outputs": [
    {
     "name": "stdout",
     "output_type": "stream",
     "text": [
      "torch.Size([64, 10])\n",
      "tensor([[ -4.3105,   5.9446,  -2.2731,  -8.8259,  11.3620,   9.7261,   6.0714,\n",
      "         -11.8963,  -3.2737, -20.2218],\n",
      "        [  6.2311,  -1.8827,   4.2045, -27.2062,   2.6515,  -6.0078,   6.2848,\n",
      "         -14.5151,   4.1712, -21.8300],\n",
      "        [  2.3783,   5.3397,   5.3788, -17.4626,  12.4066,   1.8821,   6.8405,\n",
      "         -20.2253,   5.7328,  -9.1625],\n",
      "        [  4.1732,  15.5203,   1.9952, -17.5478,  14.5476,   7.7949,   8.8186,\n",
      "          -8.2772,  -2.0482, -21.6323],\n",
      "        [  6.1552,  10.3978,  -2.5261,  -9.5177,   4.5913,   4.8210,  19.8468,\n",
      "         -13.4180,   6.8344, -23.2488],\n",
      "        [ -1.5793,   1.6299,  -1.8881, -15.7286,   2.6765,   6.1154,   8.8949,\n",
      "          -9.0226,   6.0677, -21.6412],\n",
      "        [  0.7551,   3.6885,   0.4287, -10.7780,  17.4572,   6.6098,   6.4659,\n",
      "          -6.6140,   8.1151, -19.5329],\n",
      "        [ 11.0744,   4.8723,   4.0810, -14.8626,   1.4587,   9.3473,   9.3851,\n",
      "          -7.5174,  12.3115, -20.5169],\n",
      "        [  6.2785,   3.8493,   2.6760, -23.5375,  -1.7596,   2.9508,   4.3796,\n",
      "         -11.8913,   1.6168, -22.5764],\n",
      "        [  5.3358,   1.0045,  -6.1393, -22.2052,   0.9589,   1.4539,   5.7294,\n",
      "          -8.2696,   8.9421, -15.1648],\n",
      "        [ -8.1409,  12.5985,   8.8327, -16.0486,  14.3905,   7.9833,   5.8936,\n",
      "          -5.5197,   5.7535,  -8.5061],\n",
      "        [  2.6702,   4.9860,  -4.1419, -10.2514,  11.4044,  -4.4146,   6.5980,\n",
      "          -7.3795,  -4.6082, -22.9831],\n",
      "        [  9.0927,   7.4360,   3.8347, -10.5816,   3.1539,   3.5423,   2.1621,\n",
      "         -18.7227,   8.0753, -16.8272],\n",
      "        [  8.2687,   3.5735,  -1.0448, -12.2595,   2.2462,   4.9304,  13.7636,\n",
      "          -7.2645,  11.3463, -14.1701],\n",
      "        [ -2.7087,   0.8137,   7.0400,  -9.9252,  -0.9373,  -0.1361,   5.9648,\n",
      "          -7.6476,   3.3211, -16.4345],\n",
      "        [  4.7661,   1.8966,   1.4974, -13.1815,  11.5039,  10.6327,   6.1060,\n",
      "         -15.6474,  -2.2930, -20.9159],\n",
      "        [ 14.6891,   3.9616,   1.3800, -13.2230,  -2.4467,   8.8413,  14.1627,\n",
      "          -3.5418,  10.7864, -15.9103],\n",
      "        [  8.9347,   6.2584,   1.4105, -13.2326,   2.2404,   4.4296,   9.3683,\n",
      "          -6.7318,  11.3329, -20.0543],\n",
      "        [  9.0189,   5.0789,   6.2315, -10.3621,   6.1198,   9.3178,   3.3719,\n",
      "         -13.1750,  10.1137, -13.4309],\n",
      "        [  3.1853,  -0.5951,   8.4233, -15.5328,  -1.5047,   1.2805,   2.1856,\n",
      "         -12.7700,   7.8135, -21.0211],\n",
      "        [ 12.9446,   3.2913,   9.2959, -13.0041,   1.9262,   0.4198,   5.4648,\n",
      "          -6.9996,   8.0405, -13.1842],\n",
      "        [  7.0156,   1.0210,   1.4477, -10.8618,   4.9946,   2.9779,  15.2222,\n",
      "         -18.0470,  14.3157, -24.2479],\n",
      "        [  7.7916,   5.5537,   8.0648, -16.5538,   0.8559, -15.0785,  -2.3447,\n",
      "          -4.0688,  12.8619, -10.7262],\n",
      "        [  5.4982,  10.6585,   0.6239, -15.6278,   5.4204,  -2.2362,  -2.6760,\n",
      "          -7.6177,   3.0659, -15.0446],\n",
      "        [  4.2606,  -0.3436,   4.9393, -14.8554,   6.0217,  -7.4291,   9.2871,\n",
      "          -7.9090,   4.5596, -21.5169],\n",
      "        [ -0.1572,   1.3279,   2.2626,  -9.9551,   7.1103,  10.8686,   4.5125,\n",
      "         -14.4505,   2.7353, -20.5278],\n",
      "        [  6.2021,   4.0314,   0.2473, -13.6550,   7.9057,   4.1620,  12.3402,\n",
      "         -18.1937,  16.2716, -13.7798],\n",
      "        [  3.5336,   3.2036,   3.4306, -19.0247,   6.4053,  -3.0052,   4.3707,\n",
      "         -13.7868,   4.4887, -23.6124],\n",
      "        [  8.3786,   3.1020,  -1.0718, -18.1683,   1.8805,   7.9019,   5.6807,\n",
      "         -12.7795,  10.8623, -14.5378],\n",
      "        [  7.9686,  -1.1908,  -1.7794, -22.5627,   4.5170,   2.7621,  14.9718,\n",
      "         -10.0980,   7.2978, -21.5552],\n",
      "        [  2.3507,   9.7726,   2.7233, -18.4311,   5.3177,   2.3927,  -1.5672,\n",
      "         -12.5347,   7.2462, -16.2787],\n",
      "        [ 10.0084,   1.0331,  -1.0705, -26.0799,   1.1941,  -0.3599,   2.3375,\n",
      "          -0.7954,   9.6924, -20.5787],\n",
      "        [ 14.9753,   7.3872,   5.6695, -11.3815,   7.7087,  -7.0633,   9.8055,\n",
      "          -5.1443,   9.3638, -16.8272],\n",
      "        [  2.1820,   9.8714,  -0.2223, -14.0052,   4.1245,   2.8513,   3.2537,\n",
      "         -10.3028,  -1.6254,  -2.0834],\n",
      "        [  6.2537,   2.2343,   5.2720, -13.0716,   9.8859,  -0.5352,   4.9066,\n",
      "         -10.0776,   4.8717, -15.7230],\n",
      "        [  2.4234,   5.2591,   1.9928, -18.7455,   5.0774,  12.7396,  10.4379,\n",
      "          -9.1573,   3.6403, -18.5920],\n",
      "        [ -2.6547,   0.5996,   6.7052,  -6.1203,   9.8052,  11.1937,   4.1631,\n",
      "         -13.5114,  -0.2255, -21.7130],\n",
      "        [  7.7985,   3.5668,   0.4142, -13.5989,  11.3565,   6.6396,  17.5036,\n",
      "          -6.6533,   4.2106, -26.6937],\n",
      "        [  2.7271,   3.7558,   4.1908, -17.5913,   4.5181,   3.4295,   5.2023,\n",
      "         -12.6489,   3.0138, -16.4851],\n",
      "        [ -5.9102,  -2.2673,   8.6875, -21.8972,  11.8410,   4.0868,   2.6608,\n",
      "         -11.8874,   5.0559, -13.5308],\n",
      "        [ 10.9147,  -0.7738,   6.4573, -18.3832,  -2.2560,   6.8791,   6.2161,\n",
      "         -12.7862,  16.7741, -18.6783],\n",
      "        [ -2.0115,   7.3710,   3.0184, -14.5367,   9.9736,  -7.7759,   7.9917,\n",
      "          -4.8324,  16.7533, -18.4963],\n",
      "        [  6.2465,   5.2046,   0.1275, -16.7968,   8.1328,   3.8277,   8.5529,\n",
      "          -7.0299,  11.5696,  -5.9913],\n",
      "        [ -5.1481,  16.8921,   0.8731, -17.6191,   7.4829,   7.8043,  -4.0236,\n",
      "         -20.6761,  -4.2452, -14.4839],\n",
      "        [  4.8192,  10.0085,  -2.6731, -14.8067,  10.3194,   4.4961,  13.4700,\n",
      "         -11.2509,  15.3192, -16.5408],\n",
      "        [ -2.4280,   9.0572,   2.9331,  -2.9371,  17.4495,  -8.7407,   9.3237,\n",
      "         -14.2340,  -3.2451, -17.7074],\n",
      "        [  4.9301,  -2.4800,  12.8403,  -4.7124,   8.8619,  -6.3891,  17.0139,\n",
      "         -18.1290,   8.8097, -30.0333],\n",
      "        [  1.1224,   5.2214,  -1.7494, -14.0687,   3.3051,   5.7899,   2.2695,\n",
      "          -9.5529,  10.6777, -14.8883],\n",
      "        [ -3.5601,  10.4627,  -3.1692, -12.2969,   9.2485,  11.6510,  13.1117,\n",
      "         -11.8648,   4.0918, -17.7070],\n",
      "        [  5.4769,   0.5154,  12.2357, -14.6931,   6.4019,   4.7565,  11.1015,\n",
      "         -17.1467,   1.6191, -17.9301],\n",
      "        [  2.5807,  11.3597,   6.2369, -18.1804,   5.7640,   1.2435,   6.9705,\n",
      "          -7.8199,   6.1877, -13.1493],\n",
      "        [ -1.4382,   7.9435,  -5.6412,  -3.6305,   2.9257,  12.0364,   3.1106,\n",
      "          -5.1024,  10.8751, -14.4193],\n",
      "        [  7.2709,   3.0804,   3.6724, -13.1296,  10.1446,  11.1642,  17.2436,\n",
      "         -11.0878,   3.6296, -20.4325],\n",
      "        [ -4.9003,   6.5370,  11.1314,  -9.6361,   8.4543,  -2.5828,   9.7541,\n",
      "         -13.7131,  14.5219, -24.4611],\n",
      "        [ -3.5592,  -3.9893,  -4.5003, -16.0139,   1.2425,   5.5478,   4.9723,\n",
      "         -14.1491,   0.2030, -18.8687],\n",
      "        [  3.4809,   9.6743,  -1.0390, -15.3341,   5.0854,   3.9480,   9.7330,\n",
      "         -19.9901,  11.1007, -18.8777],\n",
      "        [  0.4503,  -1.5977,  18.6119, -13.3532,  19.8459,  -5.6606,   7.5944,\n",
      "         -11.6623,  -0.5220, -14.7817],\n",
      "        [  3.3535,   8.7211,  -3.8338, -20.8004,   6.3938,  -4.3349,   6.3325,\n",
      "          -5.1625,  11.2128, -26.6592],\n",
      "        [ -2.1935,   6.2801,  -4.8317, -12.0188,   6.5195,  -1.7698,  18.8344,\n",
      "          -9.7978,   7.4580, -17.9603],\n",
      "        [ -0.6126,   2.9148,  -0.1916, -16.1307,  -1.0272,   1.4900,   8.3123,\n",
      "         -12.5180,  13.5434, -19.6272],\n",
      "        [ -3.3974,  12.2347,  -1.9603, -16.2122,  -1.1272,   2.4621,   9.4427,\n",
      "         -12.1541,   8.4492, -21.0486],\n",
      "        [  2.1414,   8.5339,  -1.5671, -24.3903,   0.5370,   3.9868,   9.4212,\n",
      "         -11.9759,   9.5739, -16.3133],\n",
      "        [  5.7786,   5.6971,   7.3294, -20.8747,   0.9964,   2.9734,   8.2115,\n",
      "         -15.3301,   5.2713, -21.9054],\n",
      "        [  6.1764,   3.1843,  13.0003,  -7.9328,  16.5012,  -3.4588,  10.1235,\n",
      "          -6.2281,   7.8505, -20.1044]])\n"
     ]
    }
   ],
   "source": [
    "## Your solution\n",
    "\n",
    "def activation(x): # Sigmoid Function\n",
    "    return 1/(1+torch.exp(-x))\n",
    "\n",
    "# Flatten the input images\n",
    "inputs = images.view(images.shape[0], -1) # -1 to easily flattened the image dimension or 784\n",
    "\n",
    "# Create parameters\n",
    "w1 = torch.randn(784, 256)\n",
    "b1 = torch.randn(256)\n",
    "\n",
    "w2 = torch.randn(256, 10)\n",
    "b2 = torch.randn(10)\n",
    "\n",
    "h = activation(torch.mm(inputs, w1) + b1)\n",
    "\n",
    "# output of your network, should have shape (64,10)\n",
    "out = torch.mm(h, w2) + b2\n",
    "\n",
    "print(out.shape)\n",
    "print(out)"
   ]
  },
  {
   "cell_type": "markdown",
   "metadata": {},
   "source": [
    "Now we have 10 outputs for our network. We want to pass in an image to our network and get out a probability distribution over the classes that tells us the likely class(es) the image belongs to. Something that looks like this:\n",
    "<img src='../images/image_distribution.png' width=500px>\n",
    "\n",
    "Here we see that the probability for each class is roughly the same. This is representing an untrained network, it hasn't seen any data yet so it just returns a uniform distribution with equal probabilities for each class.\n",
    "\n",
    "To calculate this probability distribution, we often use the [**softmax** function](https://en.wikipedia.org/wiki/Softmax_function). Mathematically this looks like\n",
    "\n",
    "$$\n",
    "\\Large \\sigma(x_i) = \\cfrac{e^{x_i}}{\\sum_k^K{e^{x_k}}}\n",
    "$$\n",
    "\n",
    "What this does is squish each input $x_i$ between 0 and 1 and normalizes the values to give you a proper probability distribution where the probabilites sum up to one.\n",
    "\n",
    "> **Exercise:** Implement a function `softmax` that performs the softmax calculation and returns probability distributions for each example in the batch. Note that you'll need to pay attention to the shapes when doing this. If you have a tensor `a` with shape `(64, 10)` and a tensor `b` with shape `(64,)`, doing `a/b` will give you an error because PyTorch will try to do the division across the columns (called broadcasting) but you'll get a size mismatch. The way to think about this is for each of the 64 examples, you only want to divide by one value, the sum in the denominator. So you need `b` to have a shape of `(64, 1)`. This way PyTorch will divide the 10 values in each row of `a` by the one value in each row of `b`. Pay attention to how you take the sum as well. You'll need to define the `dim` keyword in `torch.sum`. Setting `dim=0` takes the sum across the rows while `dim=1` takes the sum across the columns."
   ]
  },
  {
   "cell_type": "code",
   "execution_count": 6,
   "metadata": {},
   "outputs": [
    {
     "name": "stdout",
     "output_type": "stream",
     "text": [
      "torch.Size([64, 10])\n",
      "tensor([1.0000, 1.0000, 1.0000, 1.0000, 1.0000, 1.0000, 1.0000, 1.0000, 1.0000,\n",
      "        1.0000, 1.0000, 1.0000, 1.0000, 1.0000, 1.0000, 1.0000, 1.0000, 1.0000,\n",
      "        1.0000, 1.0000, 1.0000, 1.0000, 1.0000, 1.0000, 1.0000, 1.0000, 1.0000,\n",
      "        1.0000, 1.0000, 1.0000, 1.0000, 1.0000, 1.0000, 1.0000, 1.0000, 1.0000,\n",
      "        1.0000, 1.0000, 1.0000, 1.0000, 1.0000, 1.0000, 1.0000, 1.0000, 1.0000,\n",
      "        1.0000, 1.0000, 1.0000, 1.0000, 1.0000, 1.0000, 1.0000, 1.0000, 1.0000,\n",
      "        1.0000, 1.0000, 1.0000, 1.0000, 1.0000, 1.0000, 1.0000, 1.0000, 1.0000,\n",
      "        1.0000])\n"
     ]
    }
   ],
   "source": [
    "def softmax(x):\n",
    "    ## TODO: Implement the softmax function here\n",
    "    return torch.exp(x)/torch.sum(torch.exp(x), dim=1).view(-1,1) #reshape (pytorch broadcasting)\n",
    "\n",
    "# Here, out should be the output of the network in the previous excercise with shape (64,10)\n",
    "probabilities = softmax(out)\n",
    "\n",
    "# Does it have the right shape? Should be (64, 10)\n",
    "print(probabilities.shape)\n",
    "\n",
    "# Does it sum to 1?\n",
    "print(probabilities.sum(dim=1))"
   ]
  },
  {
   "cell_type": "markdown",
   "metadata": {},
   "source": [
    "## Building networks with PyTorch\n",
    "\n",
    "PyTorch provides a module `nn` that makes building networks much simpler. Here I'll show you how to build the same one as above with 784 inputs, 256 hidden units, 10 output units and a softmax output."
   ]
  },
  {
   "cell_type": "code",
   "execution_count": 7,
   "metadata": {},
   "outputs": [],
   "source": [
    "from torch import nn"
   ]
  },
  {
   "cell_type": "code",
   "execution_count": 8,
   "metadata": {},
   "outputs": [],
   "source": [
    "class Network(nn.Module):\n",
    "    def __init__(self):\n",
    "        super().__init__()\n",
    "        \n",
    "        # Inputs to hidden layer linear transformation\n",
    "        self.hidden = nn.Linear(784, 256)\n",
    "        # Output layer, 10 units - one for each digit\n",
    "        self.output = nn.Linear(256, 10)\n",
    "        \n",
    "        # Define sigmoid activation and softmax output \n",
    "        self.sigmoid = nn.Sigmoid()\n",
    "        self.softmax = nn.Softmax(dim=1)\n",
    "        \n",
    "    def forward(self, x):\n",
    "        # Pass the input tensor through each of our operations\n",
    "        x = self.hidden(x)\n",
    "        x = self.sigmoid(x)\n",
    "        x = self.output(x)\n",
    "        x = self.softmax(x)\n",
    "        \n",
    "        return x"
   ]
  },
  {
   "cell_type": "markdown",
   "metadata": {},
   "source": [
    "Let's go through this bit by bit.\n",
    "\n",
    "```python\n",
    "class Network(nn.Module):\n",
    "```\n",
    "\n",
    "Here we're inheriting from `nn.Module`. Combined with `super().__init__()` this creates a class that tracks the architecture and provides a lot of useful methods and attributes. It is mandatory to inherit from `nn.Module` when you're creating a class for your network. The name of the class itself can be anything.\n",
    "\n",
    "```python\n",
    "self.hidden = nn.Linear(784, 256)\n",
    "```\n",
    "\n",
    "This line creates a module for a linear transformation, $x\\mathbf{W} + b$, with 784 inputs and 256 outputs and assigns it to `self.hidden`. The module automatically creates the weight and bias tensors which we'll use in the `forward` method. You can access the weight and bias tensors once the network (`net`) is created with `net.hidden.weight` and `net.hidden.bias`.\n",
    "\n",
    "```python\n",
    "self.output = nn.Linear(256, 10)\n",
    "```\n",
    "\n",
    "Similarly, this creates another linear transformation with 256 inputs and 10 outputs.\n",
    "\n",
    "```python\n",
    "self.sigmoid = nn.Sigmoid()\n",
    "self.softmax = nn.Softmax(dim=1)\n",
    "```\n",
    "\n",
    "Here I defined operations for the sigmoid activation and softmax output. Setting `dim=1` in `nn.Softmax(dim=1)` calculates softmax across the columns.\n",
    "\n",
    "```python\n",
    "def forward(self, x):\n",
    "```\n",
    "\n",
    "PyTorch networks created with `nn.Module` must have a `forward` method defined. It takes in a tensor `x` and passes it through the operations you defined in the `__init__` method.\n",
    "\n",
    "```python\n",
    "x = self.hidden(x)\n",
    "x = self.sigmoid(x)\n",
    "x = self.output(x)\n",
    "x = self.softmax(x)\n",
    "```\n",
    "\n",
    "Here the input tensor `x` is passed through each operation a reassigned to `x`. We can see that the input tensor goes through the hidden layer, then a sigmoid function, then the output layer, and finally the softmax function. It doesn't matter what you name the variables here, as long as the inputs and outputs of the operations match the network architecture you want to build. The order in which you define things in the `__init__` method doesn't matter, but you'll need to sequence the operations correctly in the `forward` method.\n",
    "\n",
    "Now we can create a `Network` object."
   ]
  },
  {
   "cell_type": "code",
   "execution_count": 9,
   "metadata": {},
   "outputs": [
    {
     "data": {
      "text/plain": [
       "Network(\n",
       "  (hidden): Linear(in_features=784, out_features=256, bias=True)\n",
       "  (output): Linear(in_features=256, out_features=10, bias=True)\n",
       "  (sigmoid): Sigmoid()\n",
       "  (softmax): Softmax()\n",
       ")"
      ]
     },
     "execution_count": 9,
     "metadata": {},
     "output_type": "execute_result"
    }
   ],
   "source": [
    "# Create the network and look at it's text representation\n",
    "model = Network()\n",
    "model"
   ]
  },
  {
   "cell_type": "markdown",
   "metadata": {},
   "source": [
    "You can define the network somewhat more concisely and clearly using the `torch.nn.functional` module. This is the most common way you'll see networks defined as many operations are simple element-wise functions. We normally import this module as `F`, `import torch.nn.functional as F`."
   ]
  },
  {
   "cell_type": "code",
   "execution_count": 10,
   "metadata": {},
   "outputs": [],
   "source": [
    "import torch.nn.functional as F\n",
    "\n",
    "class Network(nn.Module):\n",
    "    def __init__(self):\n",
    "        super().__init__()\n",
    "        # Inputs to hidden layer linear transformation\n",
    "        self.hidden = nn.Linear(784, 256)\n",
    "        # Output layer, 10 units - one for each digit\n",
    "        self.output = nn.Linear(256, 10)\n",
    "        \n",
    "    def forward(self, x):\n",
    "        # Hidden layer with sigmoid activation\n",
    "        x = F.sigmoid(self.hidden(x))\n",
    "        # Output layer with softmax activation\n",
    "        x = F.softmax(self.output(x), dim=1)\n",
    "        \n",
    "        return x"
   ]
  },
  {
   "cell_type": "markdown",
   "metadata": {},
   "source": [
    "### Activation functions\n",
    "\n",
    "So far we've only been looking at the softmax activation, but in general any function can be used as an activation function. The only requirement is that for a network to approximate a non-linear function, the activation functions must be non-linear. Here are a few more examples of common activation functions: Tanh (hyperbolic tangent), and ReLU (rectified linear unit).\n",
    "\n",
    "<img src=\"../images/activation.png\" width=700px>\n",
    "\n",
    "In practice, the ReLU function is used almost exclusively as the activation function for hidden layers."
   ]
  },
  {
   "cell_type": "markdown",
   "metadata": {},
   "source": [
    "### Your Turn to Build a Network\n",
    "\n",
    "<img src=\"../images/mlp_mnist.png\" width=600px>\n",
    "\n",
    "> **Exercise:** Create a network with 784 input units, a hidden layer with 128 units and a ReLU activation, then a hidden layer with 64 units and a ReLU activation, and finally an output layer with a softmax activation as shown above. You can use a ReLU activation with the `nn.ReLU` module or `F.relu` function."
   ]
  },
  {
   "cell_type": "code",
   "execution_count": 11,
   "metadata": {
    "scrolled": true
   },
   "outputs": [
    {
     "data": {
      "text/plain": [
       "Network(\n",
       "  (fc1): Linear(in_features=784, out_features=128, bias=True)\n",
       "  (fc2): Linear(in_features=128, out_features=64, bias=True)\n",
       "  (fc3): Linear(in_features=64, out_features=10, bias=True)\n",
       ")"
      ]
     },
     "execution_count": 11,
     "metadata": {},
     "output_type": "execute_result"
    }
   ],
   "source": [
    "## Your solution here\n",
    "\n",
    "class Network(nn.Module):\n",
    "    def __init__(self):\n",
    "        super().__init__()\n",
    "        \n",
    "        ## Defining the layers, 128, 64, 10 units each\n",
    "        self.fc1 = nn.Linear(784, 128)\n",
    "        self.fc2 = nn.Linear(128, 64)\n",
    "        # Output layer, 10 units - one for each digit\n",
    "        self.fc3 = nn.Linear(64, 10)\n",
    "        \n",
    "        \n",
    "    def forward(self, x):\n",
    "        ''' Forward pass through the network, returns the output logits '''\n",
    "        x = self.fc1(x)\n",
    "        x = F.relu(x)\n",
    "        x = self.fc2(x)\n",
    "        x = F.relu(x)\n",
    "        x = self.fc3(x)\n",
    "        x = F.softmax(x, dim=1)\n",
    "        \n",
    "        return x\n",
    "    \n",
    "# Create the network and look at it's text representation\n",
    "model = Network()\n",
    "model"
   ]
  },
  {
   "cell_type": "markdown",
   "metadata": {},
   "source": [
    "### Initializing weights and biases\n",
    "\n",
    "The weights and such are automatically initialized for you, but it's possible to customize how they are initialized. The weights and biases are tensors attached to the layer you defined, you can get them with `model.fc1.weight` for instance."
   ]
  },
  {
   "cell_type": "code",
   "execution_count": 12,
   "metadata": {},
   "outputs": [
    {
     "name": "stdout",
     "output_type": "stream",
     "text": [
      "Parameter containing:\n",
      "tensor([[ 0.0284,  0.0202,  0.0335,  ..., -0.0124,  0.0217,  0.0141],\n",
      "        [ 0.0022,  0.0012,  0.0024,  ...,  0.0064, -0.0127,  0.0174],\n",
      "        [ 0.0173,  0.0241,  0.0005,  ..., -0.0213, -0.0213,  0.0108],\n",
      "        ...,\n",
      "        [-0.0146,  0.0006, -0.0009,  ...,  0.0324,  0.0169,  0.0095],\n",
      "        [-0.0229,  0.0178,  0.0035,  ...,  0.0061, -0.0186, -0.0072],\n",
      "        [-0.0156, -0.0295, -0.0141,  ..., -0.0153,  0.0227, -0.0154]],\n",
      "       requires_grad=True)\n",
      "Parameter containing:\n",
      "tensor([ 0.0271,  0.0148,  0.0289, -0.0256, -0.0294, -0.0049,  0.0062,  0.0282,\n",
      "        -0.0243, -0.0232, -0.0217,  0.0156, -0.0144,  0.0080, -0.0197, -0.0233,\n",
      "        -0.0303, -0.0290, -0.0305,  0.0337,  0.0099, -0.0165, -0.0062,  0.0319,\n",
      "         0.0312,  0.0141,  0.0316,  0.0248, -0.0234, -0.0322,  0.0251, -0.0091,\n",
      "        -0.0107, -0.0155,  0.0316, -0.0279,  0.0081,  0.0219,  0.0155, -0.0289,\n",
      "         0.0099, -0.0163,  0.0138, -0.0045,  0.0175,  0.0320,  0.0136,  0.0195,\n",
      "         0.0046, -0.0204,  0.0243,  0.0155,  0.0276, -0.0055,  0.0248, -0.0043,\n",
      "        -0.0029,  0.0273, -0.0129,  0.0093,  0.0173,  0.0322, -0.0291,  0.0158,\n",
      "         0.0078, -0.0079,  0.0049,  0.0040,  0.0247, -0.0156, -0.0255, -0.0275,\n",
      "         0.0116,  0.0058,  0.0114,  0.0277,  0.0095, -0.0236, -0.0125, -0.0187,\n",
      "        -0.0183,  0.0023,  0.0198, -0.0124,  0.0356,  0.0115,  0.0204,  0.0071,\n",
      "         0.0119, -0.0019,  0.0240,  0.0030,  0.0281,  0.0060, -0.0248,  0.0148,\n",
      "        -0.0247, -0.0092,  0.0210,  0.0333,  0.0095,  0.0274,  0.0095,  0.0126,\n",
      "        -0.0281,  0.0195, -0.0262, -0.0235,  0.0258,  0.0060, -0.0039, -0.0276,\n",
      "         0.0178, -0.0209,  0.0209, -0.0187, -0.0343,  0.0030,  0.0207,  0.0024,\n",
      "         0.0088, -0.0164, -0.0199,  0.0219,  0.0129, -0.0021, -0.0336, -0.0040],\n",
      "       requires_grad=True)\n"
     ]
    }
   ],
   "source": [
    "print(model.fc1.weight)\n",
    "print(model.fc1.bias)"
   ]
  },
  {
   "cell_type": "markdown",
   "metadata": {},
   "source": [
    "For custom initialization, we want to modify these tensors in place. These are actually autograd *Variables*, so we need to get back the actual tensors with `model.fc1.weight.data`. Once we have the tensors, we can fill them with zeros (for biases) or random normal values."
   ]
  },
  {
   "cell_type": "code",
   "execution_count": 13,
   "metadata": {},
   "outputs": [
    {
     "data": {
      "text/plain": [
       "tensor([0., 0., 0., 0., 0., 0., 0., 0., 0., 0., 0., 0., 0., 0., 0., 0., 0., 0.,\n",
       "        0., 0., 0., 0., 0., 0., 0., 0., 0., 0., 0., 0., 0., 0., 0., 0., 0., 0.,\n",
       "        0., 0., 0., 0., 0., 0., 0., 0., 0., 0., 0., 0., 0., 0., 0., 0., 0., 0.,\n",
       "        0., 0., 0., 0., 0., 0., 0., 0., 0., 0., 0., 0., 0., 0., 0., 0., 0., 0.,\n",
       "        0., 0., 0., 0., 0., 0., 0., 0., 0., 0., 0., 0., 0., 0., 0., 0., 0., 0.,\n",
       "        0., 0., 0., 0., 0., 0., 0., 0., 0., 0., 0., 0., 0., 0., 0., 0., 0., 0.,\n",
       "        0., 0., 0., 0., 0., 0., 0., 0., 0., 0., 0., 0., 0., 0., 0., 0., 0., 0.,\n",
       "        0., 0.])"
      ]
     },
     "execution_count": 13,
     "metadata": {},
     "output_type": "execute_result"
    }
   ],
   "source": [
    "# Set biases to all zeros\n",
    "model.fc1.bias.data.fill_(0)"
   ]
  },
  {
   "cell_type": "code",
   "execution_count": 14,
   "metadata": {},
   "outputs": [
    {
     "data": {
      "text/plain": [
       "tensor([[ 0.0096, -0.0075, -0.0031,  ..., -0.0066,  0.0033, -0.0027],\n",
       "        [-0.0049, -0.0047, -0.0215,  ...,  0.0088,  0.0013,  0.0046],\n",
       "        [-0.0051,  0.0170,  0.0036,  ...,  0.0043, -0.0149,  0.0037],\n",
       "        ...,\n",
       "        [-0.0107, -0.0169,  0.0088,  ...,  0.0047,  0.0118,  0.0142],\n",
       "        [-0.0126, -0.0024, -0.0029,  ..., -0.0091, -0.0049,  0.0040],\n",
       "        [ 0.0122, -0.0022,  0.0044,  ...,  0.0101,  0.0006, -0.0112]])"
      ]
     },
     "execution_count": 14,
     "metadata": {},
     "output_type": "execute_result"
    }
   ],
   "source": [
    "# sample from random normal with standard dev = 0.01\n",
    "model.fc1.weight.data.normal_(std=0.01)"
   ]
  },
  {
   "cell_type": "markdown",
   "metadata": {},
   "source": [
    "### Forward pass\n",
    "\n",
    "Now that we have a network, let's see what happens when we pass in an image."
   ]
  },
  {
   "cell_type": "code",
   "execution_count": 15,
   "metadata": {},
   "outputs": [
    {
     "data": {
      "image/png": "[encoded data removed]",
      "text/plain": [
       "<Figure size 432x504 with 2 Axes>"
      ]
     },
     "metadata": {
      "image/png": {
       "height": 197,
       "width": 370
      },
      "needs_background": "light"
     },
     "output_type": "display_data"
    }
   ],
   "source": [
    "# Grab some data \n",
    "dataiter = iter(trainloader)\n",
    "images, labels = dataiter.next()\n",
    "\n",
    "# Resize images into a 1D vector, new shape is (batch size, color channels, image pixels) \n",
    "images.resize_(64, 1, 784)\n",
    "# or images.resize_(images.shape[0], 1, 784) to automatically get batch size\n",
    "\n",
    "# Forward pass through the network\n",
    "img_idx = 0\n",
    "ps = model.forward(images[img_idx,:])\n",
    "\n",
    "img = images[img_idx]\n",
    "helper.view_classify(img.view(1,28,28), ps)"
   ]
  },
  {
   "cell_type": "markdown",
   "metadata": {},
   "source": [
    "As you can see above, our network has basically no idea what this digit is. It's because we haven't trained it yet, all the weights are random!\n",
    "\n",
    "### Using `nn.Sequential`\n",
    "\n",
    "PyTorch provides a convenient way to build networks like this where a tensor is passed sequentially through operations, `nn.Sequential` ([documentation](https://pytorch.org/docs/master/nn.html#torch.nn.Sequential)). Using this to build the equivalent network:"
   ]
  },
  {
   "cell_type": "code",
   "execution_count": 16,
   "metadata": {},
   "outputs": [
    {
     "name": "stdout",
     "output_type": "stream",
     "text": [
      "Sequential(\n",
      "  (0): Linear(in_features=784, out_features=128, bias=True)\n",
      "  (1): ReLU()\n",
      "  (2): Linear(in_features=128, out_features=64, bias=True)\n",
      "  (3): ReLU()\n",
      "  (4): Linear(in_features=64, out_features=10, bias=True)\n",
      "  (5): Softmax()\n",
      ")\n"
     ]
    },
    {
     "data": {
      "image/png": "[encoded data removed]",
      "text/plain": [
       "<Figure size 432x504 with 2 Axes>"
      ]
     },
     "metadata": {
      "image/png": {
       "height": 197,
       "width": 370
      },
      "needs_background": "light"
     },
     "output_type": "display_data"
    }
   ],
   "source": [
    "# Hyperparameters for our network\n",
    "input_size = 784\n",
    "hidden_sizes = [128, 64]\n",
    "output_size = 10\n",
    "\n",
    "# Build a feed-forward network\n",
    "model = nn.Sequential(nn.Linear(input_size, hidden_sizes[0]),\n",
    "                      nn.ReLU(),\n",
    "                      nn.Linear(hidden_sizes[0], hidden_sizes[1]),\n",
    "                      nn.ReLU(),\n",
    "                      nn.Linear(hidden_sizes[1], output_size),\n",
    "                      nn.Softmax(dim=1))\n",
    "print(model)\n",
    "\n",
    "# Forward pass through the network and display output\n",
    "images, labels = next(iter(trainloader))\n",
    "images.resize_(images.shape[0], 1, 784)\n",
    "ps = model.forward(images[0,:])\n",
    "helper.view_classify(images[0].view(1, 28, 28), ps)"
   ]
  },
  {
   "cell_type": "markdown",
   "metadata": {},
   "source": [
    "Here our model is the same as before: 784 input units, a hidden layer with 128 units, ReLU activation, 64 unit hidden layer, another ReLU, then the output layer with 10 units, and the softmax output.\n",
    "\n",
    "The operations are availble by passing in the appropriate index. For example, if you want to get first Linear operation and look at the weights, you'd use `model[0]`."
   ]
  },
  {
   "cell_type": "code",
   "execution_count": 17,
   "metadata": {},
   "outputs": [
    {
     "name": "stdout",
     "output_type": "stream",
     "text": [
      "Linear(in_features=784, out_features=128, bias=True)\n"
     ]
    },
    {
     "data": {
      "text/plain": [
       "Parameter containing:\n",
       "tensor([[-0.0110, -0.0056, -0.0199,  ..., -0.0140, -0.0274,  0.0032],\n",
       "        [-0.0219,  0.0229, -0.0350,  ...,  0.0005,  0.0242,  0.0276],\n",
       "        [ 0.0299, -0.0036, -0.0158,  ..., -0.0178,  0.0265,  0.0185],\n",
       "        ...,\n",
       "        [ 0.0300,  0.0319, -0.0125,  ...,  0.0099,  0.0031, -0.0229],\n",
       "        [-0.0210, -0.0216,  0.0238,  ..., -0.0302, -0.0028, -0.0065],\n",
       "        [ 0.0143, -0.0041,  0.0176,  ..., -0.0132,  0.0150,  0.0169]],\n",
       "       requires_grad=True)"
      ]
     },
     "execution_count": 17,
     "metadata": {},
     "output_type": "execute_result"
    }
   ],
   "source": [
    "print(model[0])\n",
    "model[0].weight"
   ]
  },
  {
   "cell_type": "markdown",
   "metadata": {},
   "source": [
    "You can also pass in an `OrderedDict` to name the individual layers and operations, instead of using incremental integers. Note that dictionary keys must be unique, so _each operation must have a different name_."
   ]
  },
  {
   "cell_type": "code",
   "execution_count": 18,
   "metadata": {},
   "outputs": [
    {
     "data": {
      "text/plain": [
       "Sequential(\n",
       "  (fc1): Linear(in_features=784, out_features=128, bias=True)\n",
       "  (relu1): ReLU()\n",
       "  (fc2): Linear(in_features=128, out_features=64, bias=True)\n",
       "  (relu2): ReLU()\n",
       "  (output): Linear(in_features=64, out_features=10, bias=True)\n",
       "  (softmax): Softmax()\n",
       ")"
      ]
     },
     "execution_count": 18,
     "metadata": {},
     "output_type": "execute_result"
    }
   ],
   "source": [
    "from collections import OrderedDict\n",
    "model = nn.Sequential(OrderedDict([\n",
    "                      ('fc1', nn.Linear(input_size, hidden_sizes[0])),\n",
    "                      ('relu1', nn.ReLU()),\n",
    "                      ('fc2', nn.Linear(hidden_sizes[0], hidden_sizes[1])),\n",
    "                      ('relu2', nn.ReLU()),\n",
    "                      ('output', nn.Linear(hidden_sizes[1], output_size)),\n",
    "                      ('softmax', nn.Softmax(dim=1))]))\n",
    "model"
   ]
  },
  {
   "cell_type": "markdown",
   "metadata": {},
   "source": [
    "Now you can access layers either by integer or the name"
   ]
  },
  {
   "cell_type": "code",
   "execution_count": 19,
   "metadata": {},
   "outputs": [
    {
     "name": "stdout",
     "output_type": "stream",
     "text": [
      "Linear(in_features=784, out_features=128, bias=True)\n",
      "Linear(in_features=784, out_features=128, bias=True)\n"
     ]
    }
   ],
   "source": [
    "print(model[0])\n",
    "print(model.fc1)"
   ]
  },
  {
   "cell_type": "markdown",
   "metadata": {},
   "source": [
    "In the next notebook, we'll see how we can train a neural network to accuractly predict the numbers appearing in the MNIST images."
   ]
  }
 ],
 "metadata": {
  "kernelspec": {
   "display_name": "Python 3",
   "language": "python",
   "name": "python3"
  },
  "language_info": {
   "codemirror_mode": {
    "name": "ipython",
    "version": 3
   },
   "file_extension": ".py",
   "mimetype": "text/x-python",
   "name": "python",
   "nbconvert_exporter": "python",
   "pygments_lexer": "ipython3",
   "version": "3.6.5"
  }
 },
 "nbformat": 4,
 "nbformat_minor": 2
}
